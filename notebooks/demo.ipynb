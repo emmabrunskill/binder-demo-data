import pandas as pd
import matplotlib.pyplot as plt

df = pd.read_csv("../data/gapminder_all.csv")
df[df['country'] == 'Canada'].plot(x="year", y="lifeExp", title="Life expectancy in Canada")
plt.show()
