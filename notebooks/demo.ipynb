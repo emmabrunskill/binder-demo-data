{
 "cells": [
  {
   "cell_type": "code",
   "execution_count": null,
   "id": "cf6dfe61",
   "metadata": {},
   "outputs": [],
   "source": [
    "import pandas as pd\n",
    "import matplotlib.pyplot as plt\n",
    "\n",
    "df = pd.read_csv(\"../data/gapminder_all.csv\")\n",
    "df[df['country'] == 'Canada'].plot(x=\"year\", y=\"lifeExp\", title=\"Life expectancy in Canada\")\n",
    "plt.show()\n"
   ]
  }
 ],
 "metadata": {
  "language_info": {
   "name": "python"
  }
 },
 "nbformat": 4,
 "nbformat_minor": 5
}
