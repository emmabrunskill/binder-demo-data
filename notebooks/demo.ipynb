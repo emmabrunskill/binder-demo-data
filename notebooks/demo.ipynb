{
 "cells": [
  {
   "cell_type": "code",
   "execution_count": null,
   "id": "cf6dfe61",
   "metadata": {},
   "outputs": [],
   "source": [
    "import pandas as pd\n",
    "import matplotlib.pyplot as plt\n",
    "\n",
    "df = pd.read_csv(\"../data/gapminder_all.csv\")\n",
    "\n",
    "canada = df[df['country'] == 'Canada']\n",
    "\n",
    "# Select just the lifeExp columns\n",
    "lifeexp_cols = [c for c in canada.columns if c.startswith(\"lifeExp_\")]\n",
    "years = [c.split(\"_\")[1] for c in lifeexp_cols]  # extract years from column names\n",
    "values = canada[lifeexp_cols].iloc[0].values     # get values for Canada\n",
    "\n",
    "plt.plot(years, values, marker=\"o\")\n",
    "plt.title(\"Life expectancy in Canada\")\n",
    "plt.xlabel(\"Year\")\n",
    "plt.ylabel(\"Life Expectancy\")\n",
    "plt.show()\n"
   ]
  }
 ],
 "metadata": {
  "language_info": {
   "name": "python"
  }
 },
 "nbformat": 4,
 "nbformat_minor": 5
}
